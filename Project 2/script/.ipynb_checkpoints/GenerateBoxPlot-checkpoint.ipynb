{
 "cells": [
  {
   "cell_type": "code",
   "execution_count": 1,
   "metadata": {},
   "outputs": [],
   "source": [
    "%matplotlib inline\n",
    "import numpy as np\n",
    "import matplotlib.pyplot as plt\n",
    "%load_ext autoreload\n",
    "%autoreload 2"
   ]
  },
  {
   "cell_type": "code",
   "execution_count": 5,
   "metadata": {},
   "outputs": [],
   "source": [
    "SVD = [0.9866,0.9865,0.9884,0.9880,0.9844]\n",
    "SVDpp = [0.9918,0.9912,0.9899,0.9941,0.9921]\n",
    "KNNBaseline = [0.9953,0.9955,0.9954,0.9942,0.9954]\n",
    "KNNBasic = [1.0251,1.0275,1.0267,1.0253,1.0281]\n",
    "SlopeOne = [1.0018,0.9992,0.9978,1.0013,1.0015]\n",
    "CoClustering = [1.0049,1.0036,1.0052,1.0009,1.0020]\n",
    "Baseline = [0.9998,1.0005,0.9985,0.9982,0.9998]\n",
    "EmbeddingDotBias = np.sqrt(0.980169)\n",
    "EmbeddingNN = np.sqrt(0.995462)\n",
    "EFM = [0.984,0.987,0.985,0.985,0.986]\n",
    "a = np.array([Baseline,SlopeOne,KNNBasic,KNNBaseline,CoClustering,SVD,SVDpp,EmbeddingDotBias,EmbeddingNN,EFM])\n",
    "labels = ['Baseline','SlopeOne','K-Basic','K-Baseline','CoCl','SVD','SVDpp','EDB','ENN','EFM']"
   ]
  },
  {
   "cell_type": "code",
   "execution_count": 10,
   "metadata": {},
   "outputs": [],
   "source": [
    "def boxplot_visualization(rmse_te_boxplot,labels) :\n",
    "    \"\"\" Display the boxplot of diferent tune models\n",
    "        Each column of the input matrix contain the tests error of a K-Fold cross validation for a given model\n",
    "        Each label of labels is a string corresponding to a model\n",
    "        \"\"\"\n",
    "    fig, ax1 = plt.subplots(figsize=(10, 6))\n",
    "    bp = plt.boxplot(rmse_te_boxplot,sym='')\n",
    "    xtickNames = plt.setp(ax1, xticklabels=labels)\n",
    "    plt.setp(xtickNames, rotation=0, fontsize=11)\n",
    "    plt.title(\"Model comparison\")\n",
    "    #plt.xlabel(\"Models\")\n",
    "    plt.ylabel(\"RMSE\")\n",
    "    plt.savefig('boxplot.png')"
   ]
  },
  {
   "cell_type": "code",
   "execution_count": 11,
   "metadata": {},
   "outputs": [
    {
     "data": {
      "image/png": "[encoded data removed]",
      "text/plain": [
       "<Figure size 720x432 with 1 Axes>"
      ]
     },
     "metadata": {
      "needs_background": "light"
     },
     "output_type": "display_data"
    }
   ],
   "source": [
    "boxplot_visualization(a.T,labels)"
   ]
  },
  {
   "cell_type": "code",
   "execution_count": null,
   "metadata": {},
   "outputs": [],
   "source": []
  }
 ],
 "metadata": {
  "kernelspec": {
   "display_name": "Python 3",
   "language": "python",
   "name": "python3"
  },
  "language_info": {
   "codemirror_mode": {
    "name": "ipython",
    "version": 3
   },
   "file_extension": ".py",
   "mimetype": "text/x-python",
   "name": "python",
   "nbconvert_exporter": "python",
   "pygments_lexer": "ipython3",
   "version": "3.7.4"
  }
 },
 "nbformat": 4,
 "nbformat_minor": 2
}
