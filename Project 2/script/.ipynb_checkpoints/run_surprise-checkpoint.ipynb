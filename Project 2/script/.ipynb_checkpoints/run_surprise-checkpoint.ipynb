{
 "cells": [
  {
   "cell_type": "code",
   "execution_count": 1,
   "metadata": {
    "scrolled": true
   },
   "outputs": [],
   "source": [
    "%matplotlib inline\n",
    "import numpy as np\n",
    "%load_ext autoreload\n",
    "%autoreload 2"
   ]
  },
  {
   "cell_type": "code",
   "execution_count": 2,
   "metadata": {},
   "outputs": [],
   "source": [
    "algonames = ['Baseline']"
   ]
  },
  {
   "cell_type": "code",
   "execution_count": 3,
   "metadata": {},
   "outputs": [
    {
     "name": "stdout",
     "output_type": "stream",
     "text": [
      "Estimating biases using als...\n",
      "Estimating biases using als...\n",
      "Estimating biases using als...\n",
      "Estimating biases using als...\n",
      "Estimating biases using als...\n",
      "Estimating biases using als...\n",
      "Evaluating RMSE of algorithm BaselineOnly on 5 split(s).\n",
      "\n",
      "                  Fold 1  Fold 2  Fold 3  Fold 4  Fold 5  Mean    Std     \n",
      "RMSE (testset)    0.9985  1.0017  1.0002  0.9970  0.9995  0.9994  0.0016  \n",
      "Fit time          6.47    5.31    5.18    5.11    5.52    5.52    0.50    \n",
      "Test time         6.99    4.82    5.31    5.93    4.81    5.57    0.82    \n",
      "(1176952, 3)\n"
     ]
    }
   ],
   "source": [
    "from surprise_package import run_surprise\n",
    "for item in algonames:\n",
    "    predictions = run_surprise('../Datasets/data_train.csv',\n",
    "                               '../Datasets/rewrite_dataset.csv',\n",
    "                               '../Datasets/sample_submission.csv', \n",
    "                               algoname=item, cross_validation=True)\n",
    "    print(predictions.shape)"
   ]
  }
 ],
 "metadata": {
  "kernelspec": {
   "display_name": "Python 3",
   "language": "python",
   "name": "python3"
  },
  "language_info": {
   "codemirror_mode": {
    "name": "ipython",
    "version": 3
   },
   "file_extension": ".py",
   "mimetype": "text/x-python",
   "name": "python",
   "nbconvert_exporter": "python",
   "pygments_lexer": "ipython3",
   "version": "3.7.4"
  }
 },
 "nbformat": 4,
 "nbformat_minor": 2
}
